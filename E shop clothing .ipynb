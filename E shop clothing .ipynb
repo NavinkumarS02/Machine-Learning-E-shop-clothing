{
 "cells": [
  {
   "cell_type": "code",
   "execution_count": 1,
   "id": "635cafb6",
   "metadata": {},
   "outputs": [],
   "source": [
    "import pandas as pd,numpy as np,matplotlib.pyplot as plt,seaborn as sns,plotly.graph_objects as go"
   ]
  },
  {
   "cell_type": "code",
   "execution_count": 2,
   "id": "b4865a35",
   "metadata": {},
   "outputs": [
    {
     "data": {
      "text/html": [
       "<div>\n",
       "<style scoped>\n",
       "    .dataframe tbody tr th:only-of-type {\n",
       "        vertical-align: middle;\n",
       "    }\n",
       "\n",
       "    .dataframe tbody tr th {\n",
       "        vertical-align: top;\n",
       "    }\n",
       "\n",
       "    .dataframe thead th {\n",
       "        text-align: right;\n",
       "    }\n",
       "</style>\n",
       "<table border=\"1\" class=\"dataframe\">\n",
       "  <thead>\n",
       "    <tr style=\"text-align: right;\">\n",
       "      <th></th>\n",
       "      <th>year</th>\n",
       "      <th>month</th>\n",
       "      <th>day</th>\n",
       "      <th>order</th>\n",
       "      <th>country</th>\n",
       "      <th>session ID</th>\n",
       "      <th>page 1 (main category)</th>\n",
       "      <th>page 2 (clothing model)</th>\n",
       "      <th>colour</th>\n",
       "      <th>location</th>\n",
       "      <th>model photography</th>\n",
       "      <th>price</th>\n",
       "      <th>price 2</th>\n",
       "      <th>page</th>\n",
       "    </tr>\n",
       "  </thead>\n",
       "  <tbody>\n",
       "    <tr>\n",
       "      <th>0</th>\n",
       "      <td>2008</td>\n",
       "      <td>4</td>\n",
       "      <td>1</td>\n",
       "      <td>1</td>\n",
       "      <td>29</td>\n",
       "      <td>1</td>\n",
       "      <td>1</td>\n",
       "      <td>A13</td>\n",
       "      <td>1</td>\n",
       "      <td>5</td>\n",
       "      <td>1</td>\n",
       "      <td>28</td>\n",
       "      <td>2</td>\n",
       "      <td>1</td>\n",
       "    </tr>\n",
       "    <tr>\n",
       "      <th>1</th>\n",
       "      <td>2008</td>\n",
       "      <td>4</td>\n",
       "      <td>1</td>\n",
       "      <td>2</td>\n",
       "      <td>29</td>\n",
       "      <td>1</td>\n",
       "      <td>1</td>\n",
       "      <td>A16</td>\n",
       "      <td>1</td>\n",
       "      <td>6</td>\n",
       "      <td>1</td>\n",
       "      <td>33</td>\n",
       "      <td>2</td>\n",
       "      <td>1</td>\n",
       "    </tr>\n",
       "    <tr>\n",
       "      <th>2</th>\n",
       "      <td>2008</td>\n",
       "      <td>4</td>\n",
       "      <td>1</td>\n",
       "      <td>3</td>\n",
       "      <td>29</td>\n",
       "      <td>1</td>\n",
       "      <td>2</td>\n",
       "      <td>B4</td>\n",
       "      <td>10</td>\n",
       "      <td>2</td>\n",
       "      <td>1</td>\n",
       "      <td>52</td>\n",
       "      <td>1</td>\n",
       "      <td>1</td>\n",
       "    </tr>\n",
       "    <tr>\n",
       "      <th>3</th>\n",
       "      <td>2008</td>\n",
       "      <td>4</td>\n",
       "      <td>1</td>\n",
       "      <td>4</td>\n",
       "      <td>29</td>\n",
       "      <td>1</td>\n",
       "      <td>2</td>\n",
       "      <td>B17</td>\n",
       "      <td>6</td>\n",
       "      <td>6</td>\n",
       "      <td>2</td>\n",
       "      <td>38</td>\n",
       "      <td>2</td>\n",
       "      <td>1</td>\n",
       "    </tr>\n",
       "    <tr>\n",
       "      <th>4</th>\n",
       "      <td>2008</td>\n",
       "      <td>4</td>\n",
       "      <td>1</td>\n",
       "      <td>5</td>\n",
       "      <td>29</td>\n",
       "      <td>1</td>\n",
       "      <td>2</td>\n",
       "      <td>B8</td>\n",
       "      <td>4</td>\n",
       "      <td>3</td>\n",
       "      <td>2</td>\n",
       "      <td>52</td>\n",
       "      <td>1</td>\n",
       "      <td>1</td>\n",
       "    </tr>\n",
       "    <tr>\n",
       "      <th>...</th>\n",
       "      <td>...</td>\n",
       "      <td>...</td>\n",
       "      <td>...</td>\n",
       "      <td>...</td>\n",
       "      <td>...</td>\n",
       "      <td>...</td>\n",
       "      <td>...</td>\n",
       "      <td>...</td>\n",
       "      <td>...</td>\n",
       "      <td>...</td>\n",
       "      <td>...</td>\n",
       "      <td>...</td>\n",
       "      <td>...</td>\n",
       "      <td>...</td>\n",
       "    </tr>\n",
       "    <tr>\n",
       "      <th>165469</th>\n",
       "      <td>2008</td>\n",
       "      <td>8</td>\n",
       "      <td>13</td>\n",
       "      <td>1</td>\n",
       "      <td>29</td>\n",
       "      <td>24024</td>\n",
       "      <td>2</td>\n",
       "      <td>B10</td>\n",
       "      <td>2</td>\n",
       "      <td>4</td>\n",
       "      <td>1</td>\n",
       "      <td>67</td>\n",
       "      <td>1</td>\n",
       "      <td>1</td>\n",
       "    </tr>\n",
       "    <tr>\n",
       "      <th>165470</th>\n",
       "      <td>2008</td>\n",
       "      <td>8</td>\n",
       "      <td>13</td>\n",
       "      <td>1</td>\n",
       "      <td>9</td>\n",
       "      <td>24025</td>\n",
       "      <td>1</td>\n",
       "      <td>A11</td>\n",
       "      <td>3</td>\n",
       "      <td>4</td>\n",
       "      <td>1</td>\n",
       "      <td>62</td>\n",
       "      <td>1</td>\n",
       "      <td>1</td>\n",
       "    </tr>\n",
       "    <tr>\n",
       "      <th>165471</th>\n",
       "      <td>2008</td>\n",
       "      <td>8</td>\n",
       "      <td>13</td>\n",
       "      <td>1</td>\n",
       "      <td>34</td>\n",
       "      <td>24026</td>\n",
       "      <td>1</td>\n",
       "      <td>A2</td>\n",
       "      <td>3</td>\n",
       "      <td>1</td>\n",
       "      <td>1</td>\n",
       "      <td>43</td>\n",
       "      <td>2</td>\n",
       "      <td>1</td>\n",
       "    </tr>\n",
       "    <tr>\n",
       "      <th>165472</th>\n",
       "      <td>2008</td>\n",
       "      <td>8</td>\n",
       "      <td>13</td>\n",
       "      <td>2</td>\n",
       "      <td>34</td>\n",
       "      <td>24026</td>\n",
       "      <td>3</td>\n",
       "      <td>C2</td>\n",
       "      <td>12</td>\n",
       "      <td>1</td>\n",
       "      <td>1</td>\n",
       "      <td>43</td>\n",
       "      <td>1</td>\n",
       "      <td>1</td>\n",
       "    </tr>\n",
       "    <tr>\n",
       "      <th>165473</th>\n",
       "      <td>2008</td>\n",
       "      <td>8</td>\n",
       "      <td>13</td>\n",
       "      <td>3</td>\n",
       "      <td>34</td>\n",
       "      <td>24026</td>\n",
       "      <td>2</td>\n",
       "      <td>B2</td>\n",
       "      <td>3</td>\n",
       "      <td>1</td>\n",
       "      <td>2</td>\n",
       "      <td>57</td>\n",
       "      <td>1</td>\n",
       "      <td>1</td>\n",
       "    </tr>\n",
       "  </tbody>\n",
       "</table>\n",
       "<p>165474 rows × 14 columns</p>\n",
       "</div>"
      ],
      "text/plain": [
       "        year  month  day  order  country  session ID  page 1 (main category)  \\\n",
       "0       2008      4    1      1       29           1                       1   \n",
       "1       2008      4    1      2       29           1                       1   \n",
       "2       2008      4    1      3       29           1                       2   \n",
       "3       2008      4    1      4       29           1                       2   \n",
       "4       2008      4    1      5       29           1                       2   \n",
       "...      ...    ...  ...    ...      ...         ...                     ...   \n",
       "165469  2008      8   13      1       29       24024                       2   \n",
       "165470  2008      8   13      1        9       24025                       1   \n",
       "165471  2008      8   13      1       34       24026                       1   \n",
       "165472  2008      8   13      2       34       24026                       3   \n",
       "165473  2008      8   13      3       34       24026                       2   \n",
       "\n",
       "       page 2 (clothing model)  colour  location  model photography  price  \\\n",
       "0                          A13       1         5                  1     28   \n",
       "1                          A16       1         6                  1     33   \n",
       "2                           B4      10         2                  1     52   \n",
       "3                          B17       6         6                  2     38   \n",
       "4                           B8       4         3                  2     52   \n",
       "...                        ...     ...       ...                ...    ...   \n",
       "165469                     B10       2         4                  1     67   \n",
       "165470                     A11       3         4                  1     62   \n",
       "165471                      A2       3         1                  1     43   \n",
       "165472                      C2      12         1                  1     43   \n",
       "165473                      B2       3         1                  2     57   \n",
       "\n",
       "        price 2  page  \n",
       "0             2     1  \n",
       "1             2     1  \n",
       "2             1     1  \n",
       "3             2     1  \n",
       "4             1     1  \n",
       "...         ...   ...  \n",
       "165469        1     1  \n",
       "165470        1     1  \n",
       "165471        2     1  \n",
       "165472        1     1  \n",
       "165473        1     1  \n",
       "\n",
       "[165474 rows x 14 columns]"
      ]
     },
     "execution_count": 2,
     "metadata": {},
     "output_type": "execute_result"
    }
   ],
   "source": [
    "df=pd.read_csv(r\"C:\\Users\\lenovo\\Desktop\\udemy practice\\Updated Content\\Datasets\\Practice datsets\\e-shop data and description\\e-shop clothing 2008.csv\",sep=';')\n",
    "df"
   ]
  },
  {
   "cell_type": "markdown",
   "id": "321bb715",
   "metadata": {},
   "source": [
    "# Exploratory analysis"
   ]
  },
  {
   "cell_type": "raw",
   "id": "5b64b1a9",
   "metadata": {},
   "source": [
    "1.Shape(observations & features)\n",
    "2.Data types\n",
    "3.target varibale?\n",
    "4.columns and its values make sense?\n",
    "5.values are in right scale?\n",
    "6.missing data?\n",
    "\n",
    "1.Plot Numerical Distributions - histograms\n",
    "    -Distributions that are unexpected\n",
    "    -Potential outliers that don’t make sense\n",
    "    -Features that should be binary (i.e. “wannabe indicator variables”)\n",
    "    -Boundaries that don’t make sense\n",
    "    -Potential measurement errors\n",
    "    \n",
    "    ->Needs data cleaning\n",
    "    \n",
    "2.Plot Categorical Distributions - bar plots, count plots\n",
    "(Note: sparse class:have a very small number of observations.)\n",
    "    They tend to be problematic when building models.\n",
    "\n",
    "    -In the best case, they don’t influence the model much.\n",
    "    -In the worse case, they can cause the model to be overfit.\n",
    "    \n",
    "    ->Needs feature eengineering\n",
    "3.Plot Segmentations - box plots - categorical vs numeric features\n",
    "\n",
    "4.Evaluate Correlations - numeric vs numeric features\n",
    "    -Positive correlation means that as one feature increases, the other increases. E.g. a child’s age and her height.\n",
    "    -Negative correlation means that as one feature increases, the other decreases. E.g. hours spent studying and number of          parties attended.\n",
    "    -Correlations near -1 or 1 indicate a strong relationship.\n",
    "    -Those closer to 0 indicate a weak relationship.\n",
    "    -0 indicates no relationship.\n"
   ]
  },
  {
   "cell_type": "code",
   "execution_count": 3,
   "id": "29638278",
   "metadata": {},
   "outputs": [
    {
     "data": {
      "text/plain": [
       "Index(['year', 'month', 'day', 'order', 'country', 'sessionID',\n",
       "       'page1(maincategory)', 'page2(clothingmodel)', 'colour', 'location',\n",
       "       'modelphotography', 'price', 'price2', 'page'],\n",
       "      dtype='object')"
      ]
     },
     "execution_count": 3,
     "metadata": {},
     "output_type": "execute_result"
    }
   ],
   "source": [
    "df.columns=df.columns.str.replace(' ','',regex=True)\n",
    "df.columns"
   ]
  },
  {
   "cell_type": "code",
   "execution_count": 4,
   "id": "3f1b0d09",
   "metadata": {},
   "outputs": [
    {
     "data": {
      "text/plain": [
       "(165474, 14)"
      ]
     },
     "execution_count": 4,
     "metadata": {},
     "output_type": "execute_result"
    }
   ],
   "source": [
    "df.shape"
   ]
  },
  {
   "cell_type": "code",
   "execution_count": 5,
   "id": "07a2f9b5",
   "metadata": {},
   "outputs": [
    {
     "name": "stdout",
     "output_type": "stream",
     "text": [
      "<class 'pandas.core.frame.DataFrame'>\n",
      "RangeIndex: 165474 entries, 0 to 165473\n",
      "Data columns (total 14 columns):\n",
      " #   Column                Non-Null Count   Dtype \n",
      "---  ------                --------------   ----- \n",
      " 0   year                  165474 non-null  int64 \n",
      " 1   month                 165474 non-null  int64 \n",
      " 2   day                   165474 non-null  int64 \n",
      " 3   order                 165474 non-null  int64 \n",
      " 4   country               165474 non-null  int64 \n",
      " 5   sessionID             165474 non-null  int64 \n",
      " 6   page1(maincategory)   165474 non-null  int64 \n",
      " 7   page2(clothingmodel)  165474 non-null  object\n",
      " 8   colour                165474 non-null  int64 \n",
      " 9   location              165474 non-null  int64 \n",
      " 10  modelphotography      165474 non-null  int64 \n",
      " 11  price                 165474 non-null  int64 \n",
      " 12  price2                165474 non-null  int64 \n",
      " 13  page                  165474 non-null  int64 \n",
      "dtypes: int64(13), object(1)\n",
      "memory usage: 17.7+ MB\n"
     ]
    }
   ],
   "source": [
    "df.info()"
   ]
  },
  {
   "cell_type": "code",
   "execution_count": 6,
   "id": "3cafb6ff",
   "metadata": {},
   "outputs": [
    {
     "data": {
      "text/html": [
       "<div>\n",
       "<style scoped>\n",
       "    .dataframe tbody tr th:only-of-type {\n",
       "        vertical-align: middle;\n",
       "    }\n",
       "\n",
       "    .dataframe tbody tr th {\n",
       "        vertical-align: top;\n",
       "    }\n",
       "\n",
       "    .dataframe thead th {\n",
       "        text-align: right;\n",
       "    }\n",
       "</style>\n",
       "<table border=\"1\" class=\"dataframe\">\n",
       "  <thead>\n",
       "    <tr style=\"text-align: right;\">\n",
       "      <th></th>\n",
       "      <th>count</th>\n",
       "      <th>mean</th>\n",
       "      <th>std</th>\n",
       "      <th>min</th>\n",
       "      <th>25%</th>\n",
       "      <th>50%</th>\n",
       "      <th>75%</th>\n",
       "      <th>max</th>\n",
       "    </tr>\n",
       "  </thead>\n",
       "  <tbody>\n",
       "    <tr>\n",
       "      <th>year</th>\n",
       "      <td>165474.0</td>\n",
       "      <td>2008.000000</td>\n",
       "      <td>0.000000</td>\n",
       "      <td>2008.0</td>\n",
       "      <td>2008.0</td>\n",
       "      <td>2008.0</td>\n",
       "      <td>2008.0</td>\n",
       "      <td>2008.0</td>\n",
       "    </tr>\n",
       "    <tr>\n",
       "      <th>month</th>\n",
       "      <td>165474.0</td>\n",
       "      <td>5.585887</td>\n",
       "      <td>1.328160</td>\n",
       "      <td>4.0</td>\n",
       "      <td>4.0</td>\n",
       "      <td>5.0</td>\n",
       "      <td>7.0</td>\n",
       "      <td>8.0</td>\n",
       "    </tr>\n",
       "    <tr>\n",
       "      <th>day</th>\n",
       "      <td>165474.0</td>\n",
       "      <td>14.524554</td>\n",
       "      <td>8.830374</td>\n",
       "      <td>1.0</td>\n",
       "      <td>7.0</td>\n",
       "      <td>14.0</td>\n",
       "      <td>22.0</td>\n",
       "      <td>31.0</td>\n",
       "    </tr>\n",
       "    <tr>\n",
       "      <th>order</th>\n",
       "      <td>165474.0</td>\n",
       "      <td>9.817476</td>\n",
       "      <td>13.478411</td>\n",
       "      <td>1.0</td>\n",
       "      <td>2.0</td>\n",
       "      <td>6.0</td>\n",
       "      <td>12.0</td>\n",
       "      <td>195.0</td>\n",
       "    </tr>\n",
       "    <tr>\n",
       "      <th>country</th>\n",
       "      <td>165474.0</td>\n",
       "      <td>26.952621</td>\n",
       "      <td>7.150691</td>\n",
       "      <td>1.0</td>\n",
       "      <td>29.0</td>\n",
       "      <td>29.0</td>\n",
       "      <td>29.0</td>\n",
       "      <td>47.0</td>\n",
       "    </tr>\n",
       "    <tr>\n",
       "      <th>sessionID</th>\n",
       "      <td>165474.0</td>\n",
       "      <td>12058.417056</td>\n",
       "      <td>7008.418903</td>\n",
       "      <td>1.0</td>\n",
       "      <td>5931.0</td>\n",
       "      <td>11967.5</td>\n",
       "      <td>18219.0</td>\n",
       "      <td>24026.0</td>\n",
       "    </tr>\n",
       "    <tr>\n",
       "      <th>page1(maincategory)</th>\n",
       "      <td>165474.0</td>\n",
       "      <td>2.400842</td>\n",
       "      <td>1.144420</td>\n",
       "      <td>1.0</td>\n",
       "      <td>1.0</td>\n",
       "      <td>2.0</td>\n",
       "      <td>3.0</td>\n",
       "      <td>4.0</td>\n",
       "    </tr>\n",
       "    <tr>\n",
       "      <th>colour</th>\n",
       "      <td>165474.0</td>\n",
       "      <td>6.227655</td>\n",
       "      <td>4.235606</td>\n",
       "      <td>1.0</td>\n",
       "      <td>3.0</td>\n",
       "      <td>4.0</td>\n",
       "      <td>9.0</td>\n",
       "      <td>14.0</td>\n",
       "    </tr>\n",
       "    <tr>\n",
       "      <th>location</th>\n",
       "      <td>165474.0</td>\n",
       "      <td>3.258198</td>\n",
       "      <td>1.713206</td>\n",
       "      <td>1.0</td>\n",
       "      <td>2.0</td>\n",
       "      <td>3.0</td>\n",
       "      <td>5.0</td>\n",
       "      <td>6.0</td>\n",
       "    </tr>\n",
       "    <tr>\n",
       "      <th>modelphotography</th>\n",
       "      <td>165474.0</td>\n",
       "      <td>1.260071</td>\n",
       "      <td>0.438674</td>\n",
       "      <td>1.0</td>\n",
       "      <td>1.0</td>\n",
       "      <td>1.0</td>\n",
       "      <td>2.0</td>\n",
       "      <td>2.0</td>\n",
       "    </tr>\n",
       "    <tr>\n",
       "      <th>price</th>\n",
       "      <td>165474.0</td>\n",
       "      <td>43.802507</td>\n",
       "      <td>12.548131</td>\n",
       "      <td>18.0</td>\n",
       "      <td>33.0</td>\n",
       "      <td>43.0</td>\n",
       "      <td>52.0</td>\n",
       "      <td>82.0</td>\n",
       "    </tr>\n",
       "    <tr>\n",
       "      <th>price2</th>\n",
       "      <td>165474.0</td>\n",
       "      <td>1.488167</td>\n",
       "      <td>0.499861</td>\n",
       "      <td>1.0</td>\n",
       "      <td>1.0</td>\n",
       "      <td>1.0</td>\n",
       "      <td>2.0</td>\n",
       "      <td>2.0</td>\n",
       "    </tr>\n",
       "    <tr>\n",
       "      <th>page</th>\n",
       "      <td>165474.0</td>\n",
       "      <td>1.710166</td>\n",
       "      <td>0.982412</td>\n",
       "      <td>1.0</td>\n",
       "      <td>1.0</td>\n",
       "      <td>1.0</td>\n",
       "      <td>2.0</td>\n",
       "      <td>5.0</td>\n",
       "    </tr>\n",
       "  </tbody>\n",
       "</table>\n",
       "</div>"
      ],
      "text/plain": [
       "                        count          mean          std     min     25%  \\\n",
       "year                 165474.0   2008.000000     0.000000  2008.0  2008.0   \n",
       "month                165474.0      5.585887     1.328160     4.0     4.0   \n",
       "day                  165474.0     14.524554     8.830374     1.0     7.0   \n",
       "order                165474.0      9.817476    13.478411     1.0     2.0   \n",
       "country              165474.0     26.952621     7.150691     1.0    29.0   \n",
       "sessionID            165474.0  12058.417056  7008.418903     1.0  5931.0   \n",
       "page1(maincategory)  165474.0      2.400842     1.144420     1.0     1.0   \n",
       "colour               165474.0      6.227655     4.235606     1.0     3.0   \n",
       "location             165474.0      3.258198     1.713206     1.0     2.0   \n",
       "modelphotography     165474.0      1.260071     0.438674     1.0     1.0   \n",
       "price                165474.0     43.802507    12.548131    18.0    33.0   \n",
       "price2               165474.0      1.488167     0.499861     1.0     1.0   \n",
       "page                 165474.0      1.710166     0.982412     1.0     1.0   \n",
       "\n",
       "                         50%      75%      max  \n",
       "year                  2008.0   2008.0   2008.0  \n",
       "month                    5.0      7.0      8.0  \n",
       "day                     14.0     22.0     31.0  \n",
       "order                    6.0     12.0    195.0  \n",
       "country                 29.0     29.0     47.0  \n",
       "sessionID            11967.5  18219.0  24026.0  \n",
       "page1(maincategory)      2.0      3.0      4.0  \n",
       "colour                   4.0      9.0     14.0  \n",
       "location                 3.0      5.0      6.0  \n",
       "modelphotography         1.0      2.0      2.0  \n",
       "price                   43.0     52.0     82.0  \n",
       "price2                   1.0      2.0      2.0  \n",
       "page                     1.0      2.0      5.0  "
      ]
     },
     "execution_count": 6,
     "metadata": {},
     "output_type": "execute_result"
    }
   ],
   "source": [
    "df.describe().T"
   ]
  },
  {
   "cell_type": "code",
   "execution_count": 7,
   "id": "11e93585",
   "metadata": {},
   "outputs": [
    {
     "data": {
      "text/plain": [
       "year                    0\n",
       "month                   0\n",
       "day                     0\n",
       "order                   0\n",
       "country                 0\n",
       "sessionID               0\n",
       "page1(maincategory)     0\n",
       "page2(clothingmodel)    0\n",
       "colour                  0\n",
       "location                0\n",
       "modelphotography        0\n",
       "price                   0\n",
       "price2                  0\n",
       "page                    0\n",
       "dtype: int64"
      ]
     },
     "execution_count": 7,
     "metadata": {},
     "output_type": "execute_result"
    }
   ],
   "source": [
    "df.isna().sum()"
   ]
  },
  {
   "cell_type": "code",
   "execution_count": 8,
   "id": "334e7d1b",
   "metadata": {},
   "outputs": [
    {
     "data": {
      "text/plain": [
       "year                     int64\n",
       "month                    int64\n",
       "day                      int64\n",
       "order                    int64\n",
       "country                  int64\n",
       "sessionID                int64\n",
       "page1(maincategory)      int64\n",
       "page2(clothingmodel)    object\n",
       "colour                   int64\n",
       "location                 int64\n",
       "modelphotography         int64\n",
       "price                    int64\n",
       "price2                   int64\n",
       "page                     int64\n",
       "dtype: object"
      ]
     },
     "execution_count": 8,
     "metadata": {},
     "output_type": "execute_result"
    }
   ],
   "source": [
    "df.dtypes"
   ]
  },
  {
   "cell_type": "code",
   "execution_count": 9,
   "id": "798e8ae4",
   "metadata": {},
   "outputs": [
    {
     "name": "stdout",
     "output_type": "stream",
     "text": [
      "['a13' 'a16' 'b4' 'b17' 'b8' 'c56' 'c57' 'p67' 'p82' 'b31' 'b21' 'b24'\n",
      " 'b27' 'a10' 'p1' 'p34' 'p33' 'c4' 'c7' 'c10' 'c17' 'p77' 'a34' 'a37'\n",
      " 'c25' 'c21' 'c15' 'c53' 'b26' 'a11' 'c5' 'p60' 'p56' 'p55' 'p48' 'p50'\n",
      " 'p42' 'p23' 'c49' 'b23' 'c19' 'c34' 'c40' 'c50' 'c42' 'a18' 'a1' 'b1'\n",
      " 'b16' 'a3' 'b3' 'b30' 'p16' 'a2' 'a5' 'a41' 'b2' 'b13' 'b15' 'b9' 'b20'\n",
      " 'b25' 'b33' 'b34' 'c2' 'c33' 'c35' 'c55' 'c59' 'p61' 'p62' 'a6' 'c47'\n",
      " 'b32' 'a17' 'a7' 'a8' 'a9' 'a20' 'a32' 'c11' 'c22' 'p12' 'a4' 'a23' 'b12'\n",
      " 'b10' 'c14' 'a12' 'a31' 'a15' 'b7' 'c8' 'c18' 'p2' 'p10' 'c26' 'c31'\n",
      " 'a35' 'a36' 'c46' 'p29' 'a21' 'p63' 'p30' 'p32' 'p66' 'p57' 'p43' 'p4'\n",
      " 'a28' 'b28' 'p15' 'a19' 'b19' 'b14' 'b6' 'a29' 'p49' 'c3' 'c9' 'c36'\n",
      " 'c37' 'c39' 'c51' 'c52' 'a42' 'b29' 'b11' 'p6' 'p17' 'p11' 'c1' 'c13'\n",
      " 'a14' 'a24' 'p20' 'p40' 'p51' 'p25' 'c44' 'c45' 'b22' 'a30' 'c58' 'c54'\n",
      " 'a26' 'a33' 'a38' 'a39' 'p8' 'p19' 'p39' 'p80' 'p78' 'p76' 'a40' 'b5'\n",
      " 'p3' 'p7' 'p14' 'p18' 'p35' 'c6' 'c12' 'c30' 'p5' 'p70' 'p36' 'p9' 'p26'\n",
      " 'p52' 'p64' 'p37' 'p69' 'a22' 'c41' 'p13' 'c16' 'p46' 'c48' 'p81' 'p38'\n",
      " 'p47' 'p44' 'p59' 'p65' 'c38' 'c20' 'c27' 'c28' 'c43' 'p58' 'p21' 'p72'\n",
      " 'p73' 'c24' 'p41' 'c29' 'p71' 'c32' 'c23' 'a27' 'p74' 'p68' 'p75' 'a25'\n",
      " 'p27' 'p24' 'a43' 'p31' 'p53' 'p45' 'p54' 'p28' 'p22' 'p79']\n"
     ]
    }
   ],
   "source": [
    "for i in df.columns:\n",
    "    if df[i].dtype=='O':\n",
    "        df[i]=df[i].replace(' ','',regex=True)\n",
    "        df[i]=df[i].str.lower()\n",
    "        print(df[i].unique())\n",
    "        "
   ]
  },
  {
   "cell_type": "code",
   "execution_count": 10,
   "id": "12c3c7de",
   "metadata": {},
   "outputs": [
    {
     "name": "stdout",
     "output_type": "stream",
     "text": [
      "[  4   7  70  51  74 127 128 198 215  66  55  58  61   1 135 162 161 109\n",
      " 132  77  84 209  27  30  93  89  82 124  60   2 120 191 186 185 177 180\n",
      " 171 150 119  57  86 103 110 121 112   9   0  43  50  22  64  65 142  11\n",
      "  38  35  53  47  49  75  54  59  68  69  87 102 104 126 130 192 193  39\n",
      " 117  67   8  40  41  42  12  25  78  90 138  33  15  46  44  81   3  24\n",
      "   6  73 133  85 146 136  94 100  28  29 116 156  13 194 158 160 197 187\n",
      " 172 168  20  62 141  10  52  48  72  21 178  98 134 105 106 108 122 123\n",
      "  36  63  45 190 143 137  76  80   5  16 147 169 181 152 114 115  56  23\n",
      " 129 125  18  26  31  32 212 145 167 213 210 208  34  71 157 201 140 144\n",
      " 163 131  79  99 179 202 164 216 153 182 195 165 200  14 111 139  83 175\n",
      " 118 214 166 176 173 189 196 107  88  95  96 113 188 148 204 205  92 170\n",
      "  97 203 101  91  19 206 199 207  17 154 151  37 159 183 174 184 155 149\n",
      " 211]\n"
     ]
    }
   ],
   "source": [
    "from sklearn.preprocessing import LabelEncoder\n",
    "le=LabelEncoder()\n",
    "for i in df.columns:\n",
    "    if df[i].dtype=='O':\n",
    "        df[[i]]=df[[i]].apply(le.fit_transform)\n",
    "        print(df[i].unique())"
   ]
  },
  {
   "cell_type": "code",
   "execution_count": 11,
   "id": "0d08aa55",
   "metadata": {},
   "outputs": [
    {
     "data": {
      "text/plain": [
       "array([[<AxesSubplot:title={'center':'year'}>,\n",
       "        <AxesSubplot:title={'center':'month'}>,\n",
       "        <AxesSubplot:title={'center':'day'}>,\n",
       "        <AxesSubplot:title={'center':'order'}>],\n",
       "       [<AxesSubplot:title={'center':'country'}>,\n",
       "        <AxesSubplot:title={'center':'sessionID'}>,\n",
       "        <AxesSubplot:title={'center':'page1(maincategory)'}>,\n",
       "        <AxesSubplot:title={'center':'page2(clothingmodel)'}>],\n",
       "       [<AxesSubplot:title={'center':'colour'}>,\n",
       "        <AxesSubplot:title={'center':'location'}>,\n",
       "        <AxesSubplot:title={'center':'modelphotography'}>,\n",
       "        <AxesSubplot:title={'center':'price'}>],\n",
       "       [<AxesSubplot:title={'center':'price2'}>,\n",
       "        <AxesSubplot:title={'center':'page'}>, <AxesSubplot:>,\n",
       "        <AxesSubplot:>]], dtype=object)"
      ]
     },
     "execution_count": 11,
     "metadata": {},
     "output_type": "execute_result"
    },
    {
     "data": {
      "image/png": "[encoded data removed]",
      "text/plain": [
       "<Figure size 2160x2160 with 16 Axes>"
      ]
     },
     "metadata": {
      "needs_background": "light"
     },
     "output_type": "display_data"
    }
   ],
   "source": [
    "df.hist(bins=10,figsize=(30,30))#numerical columns distribution"
   ]
  },
  {
   "cell_type": "code",
   "execution_count": 12,
   "id": "ca63f902",
   "metadata": {},
   "outputs": [
    {
     "data": {
      "text/plain": [
       "<AxesSubplot:xlabel='count', ylabel='page1(maincategory)'>"
      ]
     },
     "execution_count": 12,
     "metadata": {},
     "output_type": "execute_result"
    },
    {
     "data": {
      "image/png": "[encoded data removed]",
      "text/plain": [
       "<Figure size 432x288 with 1 Axes>"
      ]
     },
     "metadata": {
      "needs_background": "light"
     },
     "output_type": "display_data"
    }
   ],
   "source": [
    "sns.countplot(data=df,y='page1(maincategory)')#for categorical data"
   ]
  },
  {
   "cell_type": "code",
   "execution_count": 13,
   "id": "9f9c6980",
   "metadata": {},
   "outputs": [
    {
     "data": {
      "text/plain": [
       "<AxesSubplot:xlabel='country', ylabel='order'>"
      ]
     },
     "execution_count": 13,
     "metadata": {},
     "output_type": "execute_result"
    },
    {
     "data": {
      "image/png": "[encoded data removed]",
      "text/plain": [
       "<Figure size 1440x1440 with 1 Axes>"
      ]
     },
     "metadata": {
      "needs_background": "light"
     },
     "output_type": "display_data"
    }
   ],
   "source": [
    "plt.figure(figsize=(20,20))\n",
    "sns.barplot(x=df['country'],y=df['order'])#for category vs numerical"
   ]
  },
  {
   "cell_type": "code",
   "execution_count": 14,
   "id": "f99d2d10",
   "metadata": {},
   "outputs": [
    {
     "data": {
      "text/plain": [
       "<AxesSubplot:>"
      ]
     },
     "execution_count": 14,
     "metadata": {},
     "output_type": "execute_result"
    },
    {
     "data": {
      "image/png": "[encoded data removed]",
      "text/plain": [
       "<Figure size 1080x1080 with 2 Axes>"
      ]
     },
     "metadata": {
      "needs_background": "light"
     },
     "output_type": "display_data"
    }
   ],
   "source": [
    "plt.figure(figsize=(15,15))\n",
    "sns.heatmap(df.corr(),annot=True)#for numerical vs numerical"
   ]
  },
  {
   "cell_type": "markdown",
   "id": "ab899125",
   "metadata": {},
   "source": [
    "\n",
    "\n",
    "# Data Cleaning"
   ]
  },
  {
   "cell_type": "raw",
   "id": "c8c14f47",
   "metadata": {},
   "source": [
    "1.Duplicate observations\n",
    "2.Irrelevant observations(rows not related to our problem)\n",
    "3.Fix Structural Errors(like typos)\n",
    "4.Filter Unwanted Outliers\n",
    "5.Handle Missing - DataDropping,Imputing\n",
    "  -Missing categorical data-simply label them as ’Missing’!\n",
    "  -Missing numeric data-flag and fill \n",
    "\n"
   ]
  },
  {
   "cell_type": "code",
   "execution_count": 15,
   "id": "9cd33828",
   "metadata": {},
   "outputs": [
    {
     "data": {
      "text/plain": [
       "0         False\n",
       "1         False\n",
       "2         False\n",
       "3         False\n",
       "4         False\n",
       "          ...  \n",
       "165469    False\n",
       "165470    False\n",
       "165471    False\n",
       "165472    False\n",
       "165473    False\n",
       "Length: 165474, dtype: bool"
      ]
     },
     "execution_count": 15,
     "metadata": {},
     "output_type": "execute_result"
    }
   ],
   "source": [
    "df.duplicated()"
   ]
  },
  {
   "cell_type": "code",
   "execution_count": 16,
   "id": "9d6fefdf",
   "metadata": {},
   "outputs": [
    {
     "data": {
      "text/html": [
       "<div>\n",
       "<style scoped>\n",
       "    .dataframe tbody tr th:only-of-type {\n",
       "        vertical-align: middle;\n",
       "    }\n",
       "\n",
       "    .dataframe tbody tr th {\n",
       "        vertical-align: top;\n",
       "    }\n",
       "\n",
       "    .dataframe thead th {\n",
       "        text-align: right;\n",
       "    }\n",
       "</style>\n",
       "<table border=\"1\" class=\"dataframe\">\n",
       "  <thead>\n",
       "    <tr style=\"text-align: right;\">\n",
       "      <th></th>\n",
       "      <th>year</th>\n",
       "      <th>month</th>\n",
       "      <th>day</th>\n",
       "      <th>order</th>\n",
       "      <th>country</th>\n",
       "      <th>sessionID</th>\n",
       "      <th>page1(maincategory)</th>\n",
       "      <th>page2(clothingmodel)</th>\n",
       "      <th>colour</th>\n",
       "      <th>location</th>\n",
       "      <th>modelphotography</th>\n",
       "      <th>price</th>\n",
       "      <th>price2</th>\n",
       "      <th>page</th>\n",
       "    </tr>\n",
       "  </thead>\n",
       "  <tbody>\n",
       "    <tr>\n",
       "      <th>0</th>\n",
       "      <td>2008</td>\n",
       "      <td>4</td>\n",
       "      <td>1</td>\n",
       "      <td>1</td>\n",
       "      <td>29</td>\n",
       "      <td>1</td>\n",
       "      <td>1</td>\n",
       "      <td>4</td>\n",
       "      <td>1</td>\n",
       "      <td>5</td>\n",
       "      <td>1</td>\n",
       "      <td>28</td>\n",
       "      <td>2</td>\n",
       "      <td>1</td>\n",
       "    </tr>\n",
       "    <tr>\n",
       "      <th>1</th>\n",
       "      <td>2008</td>\n",
       "      <td>4</td>\n",
       "      <td>1</td>\n",
       "      <td>2</td>\n",
       "      <td>29</td>\n",
       "      <td>1</td>\n",
       "      <td>1</td>\n",
       "      <td>7</td>\n",
       "      <td>1</td>\n",
       "      <td>6</td>\n",
       "      <td>1</td>\n",
       "      <td>33</td>\n",
       "      <td>2</td>\n",
       "      <td>1</td>\n",
       "    </tr>\n",
       "    <tr>\n",
       "      <th>2</th>\n",
       "      <td>2008</td>\n",
       "      <td>4</td>\n",
       "      <td>1</td>\n",
       "      <td>3</td>\n",
       "      <td>29</td>\n",
       "      <td>1</td>\n",
       "      <td>2</td>\n",
       "      <td>70</td>\n",
       "      <td>10</td>\n",
       "      <td>2</td>\n",
       "      <td>1</td>\n",
       "      <td>52</td>\n",
       "      <td>1</td>\n",
       "      <td>1</td>\n",
       "    </tr>\n",
       "    <tr>\n",
       "      <th>3</th>\n",
       "      <td>2008</td>\n",
       "      <td>4</td>\n",
       "      <td>1</td>\n",
       "      <td>4</td>\n",
       "      <td>29</td>\n",
       "      <td>1</td>\n",
       "      <td>2</td>\n",
       "      <td>51</td>\n",
       "      <td>6</td>\n",
       "      <td>6</td>\n",
       "      <td>2</td>\n",
       "      <td>38</td>\n",
       "      <td>2</td>\n",
       "      <td>1</td>\n",
       "    </tr>\n",
       "    <tr>\n",
       "      <th>4</th>\n",
       "      <td>2008</td>\n",
       "      <td>4</td>\n",
       "      <td>1</td>\n",
       "      <td>5</td>\n",
       "      <td>29</td>\n",
       "      <td>1</td>\n",
       "      <td>2</td>\n",
       "      <td>74</td>\n",
       "      <td>4</td>\n",
       "      <td>3</td>\n",
       "      <td>2</td>\n",
       "      <td>52</td>\n",
       "      <td>1</td>\n",
       "      <td>1</td>\n",
       "    </tr>\n",
       "    <tr>\n",
       "      <th>...</th>\n",
       "      <td>...</td>\n",
       "      <td>...</td>\n",
       "      <td>...</td>\n",
       "      <td>...</td>\n",
       "      <td>...</td>\n",
       "      <td>...</td>\n",
       "      <td>...</td>\n",
       "      <td>...</td>\n",
       "      <td>...</td>\n",
       "      <td>...</td>\n",
       "      <td>...</td>\n",
       "      <td>...</td>\n",
       "      <td>...</td>\n",
       "      <td>...</td>\n",
       "    </tr>\n",
       "    <tr>\n",
       "      <th>165469</th>\n",
       "      <td>2008</td>\n",
       "      <td>8</td>\n",
       "      <td>13</td>\n",
       "      <td>1</td>\n",
       "      <td>29</td>\n",
       "      <td>24024</td>\n",
       "      <td>2</td>\n",
       "      <td>44</td>\n",
       "      <td>2</td>\n",
       "      <td>4</td>\n",
       "      <td>1</td>\n",
       "      <td>67</td>\n",
       "      <td>1</td>\n",
       "      <td>1</td>\n",
       "    </tr>\n",
       "    <tr>\n",
       "      <th>165470</th>\n",
       "      <td>2008</td>\n",
       "      <td>8</td>\n",
       "      <td>13</td>\n",
       "      <td>1</td>\n",
       "      <td>9</td>\n",
       "      <td>24025</td>\n",
       "      <td>1</td>\n",
       "      <td>2</td>\n",
       "      <td>3</td>\n",
       "      <td>4</td>\n",
       "      <td>1</td>\n",
       "      <td>62</td>\n",
       "      <td>1</td>\n",
       "      <td>1</td>\n",
       "    </tr>\n",
       "    <tr>\n",
       "      <th>165471</th>\n",
       "      <td>2008</td>\n",
       "      <td>8</td>\n",
       "      <td>13</td>\n",
       "      <td>1</td>\n",
       "      <td>34</td>\n",
       "      <td>24026</td>\n",
       "      <td>1</td>\n",
       "      <td>11</td>\n",
       "      <td>3</td>\n",
       "      <td>1</td>\n",
       "      <td>1</td>\n",
       "      <td>43</td>\n",
       "      <td>2</td>\n",
       "      <td>1</td>\n",
       "    </tr>\n",
       "    <tr>\n",
       "      <th>165472</th>\n",
       "      <td>2008</td>\n",
       "      <td>8</td>\n",
       "      <td>13</td>\n",
       "      <td>2</td>\n",
       "      <td>34</td>\n",
       "      <td>24026</td>\n",
       "      <td>3</td>\n",
       "      <td>87</td>\n",
       "      <td>12</td>\n",
       "      <td>1</td>\n",
       "      <td>1</td>\n",
       "      <td>43</td>\n",
       "      <td>1</td>\n",
       "      <td>1</td>\n",
       "    </tr>\n",
       "    <tr>\n",
       "      <th>165473</th>\n",
       "      <td>2008</td>\n",
       "      <td>8</td>\n",
       "      <td>13</td>\n",
       "      <td>3</td>\n",
       "      <td>34</td>\n",
       "      <td>24026</td>\n",
       "      <td>2</td>\n",
       "      <td>53</td>\n",
       "      <td>3</td>\n",
       "      <td>1</td>\n",
       "      <td>2</td>\n",
       "      <td>57</td>\n",
       "      <td>1</td>\n",
       "      <td>1</td>\n",
       "    </tr>\n",
       "  </tbody>\n",
       "</table>\n",
       "<p>165474 rows × 14 columns</p>\n",
       "</div>"
      ],
      "text/plain": [
       "        year  month  day  order  country  sessionID  page1(maincategory)  \\\n",
       "0       2008      4    1      1       29          1                    1   \n",
       "1       2008      4    1      2       29          1                    1   \n",
       "2       2008      4    1      3       29          1                    2   \n",
       "3       2008      4    1      4       29          1                    2   \n",
       "4       2008      4    1      5       29          1                    2   \n",
       "...      ...    ...  ...    ...      ...        ...                  ...   \n",
       "165469  2008      8   13      1       29      24024                    2   \n",
       "165470  2008      8   13      1        9      24025                    1   \n",
       "165471  2008      8   13      1       34      24026                    1   \n",
       "165472  2008      8   13      2       34      24026                    3   \n",
       "165473  2008      8   13      3       34      24026                    2   \n",
       "\n",
       "        page2(clothingmodel)  colour  location  modelphotography  price  \\\n",
       "0                          4       1         5                 1     28   \n",
       "1                          7       1         6                 1     33   \n",
       "2                         70      10         2                 1     52   \n",
       "3                         51       6         6                 2     38   \n",
       "4                         74       4         3                 2     52   \n",
       "...                      ...     ...       ...               ...    ...   \n",
       "165469                    44       2         4                 1     67   \n",
       "165470                     2       3         4                 1     62   \n",
       "165471                    11       3         1                 1     43   \n",
       "165472                    87      12         1                 1     43   \n",
       "165473                    53       3         1                 2     57   \n",
       "\n",
       "        price2  page  \n",
       "0            2     1  \n",
       "1            2     1  \n",
       "2            1     1  \n",
       "3            2     1  \n",
       "4            1     1  \n",
       "...        ...   ...  \n",
       "165469       1     1  \n",
       "165470       1     1  \n",
       "165471       2     1  \n",
       "165472       1     1  \n",
       "165473       1     1  \n",
       "\n",
       "[165474 rows x 14 columns]"
      ]
     },
     "execution_count": 16,
     "metadata": {},
     "output_type": "execute_result"
    }
   ],
   "source": [
    "df.drop_duplicates()"
   ]
  },
  {
   "cell_type": "markdown",
   "id": "f9960bb8",
   "metadata": {},
   "source": [
    "Missing value Treatment\n",
    "\n",
    "https://www.analyticsvidhya.com/blog/2021/10/handling-missing-value/\n"
   ]
  },
  {
   "cell_type": "code",
   "execution_count": 17,
   "id": "17639bc5",
   "metadata": {},
   "outputs": [
    {
     "data": {
      "text/plain": [
       "year                    0\n",
       "month                   0\n",
       "day                     0\n",
       "order                   0\n",
       "country                 0\n",
       "sessionID               0\n",
       "page1(maincategory)     0\n",
       "page2(clothingmodel)    0\n",
       "colour                  0\n",
       "location                0\n",
       "modelphotography        0\n",
       "price                   0\n",
       "price2                  0\n",
       "page                    0\n",
       "dtype: int64"
      ]
     },
     "execution_count": 17,
     "metadata": {},
     "output_type": "execute_result"
    }
   ],
   "source": [
    "df.isna().sum()"
   ]
  },
  {
   "cell_type": "code",
   "execution_count": 18,
   "id": "37398b09",
   "metadata": {
    "scrolled": true
   },
   "outputs": [
    {
     "data": {
      "text/html": [
       "<div>\n",
       "<style scoped>\n",
       "    .dataframe tbody tr th:only-of-type {\n",
       "        vertical-align: middle;\n",
       "    }\n",
       "\n",
       "    .dataframe tbody tr th {\n",
       "        vertical-align: top;\n",
       "    }\n",
       "\n",
       "    .dataframe thead th {\n",
       "        text-align: right;\n",
       "    }\n",
       "</style>\n",
       "<table border=\"1\" class=\"dataframe\">\n",
       "  <thead>\n",
       "    <tr style=\"text-align: right;\">\n",
       "      <th></th>\n",
       "      <th>year</th>\n",
       "      <th>month</th>\n",
       "      <th>day</th>\n",
       "      <th>order</th>\n",
       "      <th>country</th>\n",
       "      <th>sessionID</th>\n",
       "      <th>page1(maincategory)</th>\n",
       "      <th>page2(clothingmodel)</th>\n",
       "      <th>colour</th>\n",
       "      <th>location</th>\n",
       "      <th>modelphotography</th>\n",
       "      <th>price</th>\n",
       "      <th>price2</th>\n",
       "      <th>page</th>\n",
       "    </tr>\n",
       "  </thead>\n",
       "  <tbody>\n",
       "    <tr>\n",
       "      <th>0</th>\n",
       "      <td>2008</td>\n",
       "      <td>4</td>\n",
       "      <td>1</td>\n",
       "      <td>1</td>\n",
       "      <td>29</td>\n",
       "      <td>1</td>\n",
       "      <td>1</td>\n",
       "      <td>4</td>\n",
       "      <td>1</td>\n",
       "      <td>5</td>\n",
       "      <td>1</td>\n",
       "      <td>28</td>\n",
       "      <td>2</td>\n",
       "      <td>1</td>\n",
       "    </tr>\n",
       "    <tr>\n",
       "      <th>1</th>\n",
       "      <td>2008</td>\n",
       "      <td>4</td>\n",
       "      <td>1</td>\n",
       "      <td>2</td>\n",
       "      <td>29</td>\n",
       "      <td>1</td>\n",
       "      <td>1</td>\n",
       "      <td>7</td>\n",
       "      <td>1</td>\n",
       "      <td>6</td>\n",
       "      <td>1</td>\n",
       "      <td>33</td>\n",
       "      <td>2</td>\n",
       "      <td>1</td>\n",
       "    </tr>\n",
       "    <tr>\n",
       "      <th>2</th>\n",
       "      <td>2008</td>\n",
       "      <td>4</td>\n",
       "      <td>1</td>\n",
       "      <td>3</td>\n",
       "      <td>29</td>\n",
       "      <td>1</td>\n",
       "      <td>2</td>\n",
       "      <td>70</td>\n",
       "      <td>10</td>\n",
       "      <td>2</td>\n",
       "      <td>1</td>\n",
       "      <td>52</td>\n",
       "      <td>1</td>\n",
       "      <td>1</td>\n",
       "    </tr>\n",
       "    <tr>\n",
       "      <th>3</th>\n",
       "      <td>2008</td>\n",
       "      <td>4</td>\n",
       "      <td>1</td>\n",
       "      <td>4</td>\n",
       "      <td>29</td>\n",
       "      <td>1</td>\n",
       "      <td>2</td>\n",
       "      <td>51</td>\n",
       "      <td>6</td>\n",
       "      <td>6</td>\n",
       "      <td>2</td>\n",
       "      <td>38</td>\n",
       "      <td>2</td>\n",
       "      <td>1</td>\n",
       "    </tr>\n",
       "    <tr>\n",
       "      <th>4</th>\n",
       "      <td>2008</td>\n",
       "      <td>4</td>\n",
       "      <td>1</td>\n",
       "      <td>5</td>\n",
       "      <td>29</td>\n",
       "      <td>1</td>\n",
       "      <td>2</td>\n",
       "      <td>74</td>\n",
       "      <td>4</td>\n",
       "      <td>3</td>\n",
       "      <td>2</td>\n",
       "      <td>52</td>\n",
       "      <td>1</td>\n",
       "      <td>1</td>\n",
       "    </tr>\n",
       "    <tr>\n",
       "      <th>...</th>\n",
       "      <td>...</td>\n",
       "      <td>...</td>\n",
       "      <td>...</td>\n",
       "      <td>...</td>\n",
       "      <td>...</td>\n",
       "      <td>...</td>\n",
       "      <td>...</td>\n",
       "      <td>...</td>\n",
       "      <td>...</td>\n",
       "      <td>...</td>\n",
       "      <td>...</td>\n",
       "      <td>...</td>\n",
       "      <td>...</td>\n",
       "      <td>...</td>\n",
       "    </tr>\n",
       "    <tr>\n",
       "      <th>165469</th>\n",
       "      <td>2008</td>\n",
       "      <td>8</td>\n",
       "      <td>13</td>\n",
       "      <td>1</td>\n",
       "      <td>29</td>\n",
       "      <td>24024</td>\n",
       "      <td>2</td>\n",
       "      <td>44</td>\n",
       "      <td>2</td>\n",
       "      <td>4</td>\n",
       "      <td>1</td>\n",
       "      <td>67</td>\n",
       "      <td>1</td>\n",
       "      <td>1</td>\n",
       "    </tr>\n",
       "    <tr>\n",
       "      <th>165470</th>\n",
       "      <td>2008</td>\n",
       "      <td>8</td>\n",
       "      <td>13</td>\n",
       "      <td>1</td>\n",
       "      <td>9</td>\n",
       "      <td>24025</td>\n",
       "      <td>1</td>\n",
       "      <td>2</td>\n",
       "      <td>3</td>\n",
       "      <td>4</td>\n",
       "      <td>1</td>\n",
       "      <td>62</td>\n",
       "      <td>1</td>\n",
       "      <td>1</td>\n",
       "    </tr>\n",
       "    <tr>\n",
       "      <th>165471</th>\n",
       "      <td>2008</td>\n",
       "      <td>8</td>\n",
       "      <td>13</td>\n",
       "      <td>1</td>\n",
       "      <td>34</td>\n",
       "      <td>24026</td>\n",
       "      <td>1</td>\n",
       "      <td>11</td>\n",
       "      <td>3</td>\n",
       "      <td>1</td>\n",
       "      <td>1</td>\n",
       "      <td>43</td>\n",
       "      <td>2</td>\n",
       "      <td>1</td>\n",
       "    </tr>\n",
       "    <tr>\n",
       "      <th>165472</th>\n",
       "      <td>2008</td>\n",
       "      <td>8</td>\n",
       "      <td>13</td>\n",
       "      <td>2</td>\n",
       "      <td>34</td>\n",
       "      <td>24026</td>\n",
       "      <td>3</td>\n",
       "      <td>87</td>\n",
       "      <td>12</td>\n",
       "      <td>1</td>\n",
       "      <td>1</td>\n",
       "      <td>43</td>\n",
       "      <td>1</td>\n",
       "      <td>1</td>\n",
       "    </tr>\n",
       "    <tr>\n",
       "      <th>165473</th>\n",
       "      <td>2008</td>\n",
       "      <td>8</td>\n",
       "      <td>13</td>\n",
       "      <td>3</td>\n",
       "      <td>34</td>\n",
       "      <td>24026</td>\n",
       "      <td>2</td>\n",
       "      <td>53</td>\n",
       "      <td>3</td>\n",
       "      <td>1</td>\n",
       "      <td>2</td>\n",
       "      <td>57</td>\n",
       "      <td>1</td>\n",
       "      <td>1</td>\n",
       "    </tr>\n",
       "  </tbody>\n",
       "</table>\n",
       "<p>165474 rows × 14 columns</p>\n",
       "</div>"
      ],
      "text/plain": [
       "        year  month  day  order  country  sessionID  page1(maincategory)  \\\n",
       "0       2008      4    1      1       29          1                    1   \n",
       "1       2008      4    1      2       29          1                    1   \n",
       "2       2008      4    1      3       29          1                    2   \n",
       "3       2008      4    1      4       29          1                    2   \n",
       "4       2008      4    1      5       29          1                    2   \n",
       "...      ...    ...  ...    ...      ...        ...                  ...   \n",
       "165469  2008      8   13      1       29      24024                    2   \n",
       "165470  2008      8   13      1        9      24025                    1   \n",
       "165471  2008      8   13      1       34      24026                    1   \n",
       "165472  2008      8   13      2       34      24026                    3   \n",
       "165473  2008      8   13      3       34      24026                    2   \n",
       "\n",
       "        page2(clothingmodel)  colour  location  modelphotography  price  \\\n",
       "0                          4       1         5                 1     28   \n",
       "1                          7       1         6                 1     33   \n",
       "2                         70      10         2                 1     52   \n",
       "3                         51       6         6                 2     38   \n",
       "4                         74       4         3                 2     52   \n",
       "...                      ...     ...       ...               ...    ...   \n",
       "165469                    44       2         4                 1     67   \n",
       "165470                     2       3         4                 1     62   \n",
       "165471                    11       3         1                 1     43   \n",
       "165472                    87      12         1                 1     43   \n",
       "165473                    53       3         1                 2     57   \n",
       "\n",
       "        price2  page  \n",
       "0            2     1  \n",
       "1            2     1  \n",
       "2            1     1  \n",
       "3            2     1  \n",
       "4            1     1  \n",
       "...        ...   ...  \n",
       "165469       1     1  \n",
       "165470       1     1  \n",
       "165471       2     1  \n",
       "165472       1     1  \n",
       "165473       1     1  \n",
       "\n",
       "[165474 rows x 14 columns]"
      ]
     },
     "execution_count": 18,
     "metadata": {},
     "output_type": "execute_result"
    }
   ],
   "source": [
    "df.dropna()"
   ]
  },
  {
   "cell_type": "code",
   "execution_count": 19,
   "id": "158279c0",
   "metadata": {},
   "outputs": [],
   "source": [
    "# from sklearn.impute import SimpleImputer as SI\n",
    "# imputer=SI(missing_values=np.nan,strategy='mean')\n",
    "# imputer.fit(data)\n",
    "# x=imputer.transform(x)\n",
    "\n"
   ]
  },
  {
   "cell_type": "markdown",
   "id": "896164d4",
   "metadata": {},
   "source": [
    "Outlier treatment\n",
    "\n",
    "https://www.analyticsvidhya.com/blog/2021/05/detecting-and-treating-outliers-treating-the-odd-one-out/\n",
    "\n"
   ]
  },
  {
   "cell_type": "markdown",
   "id": "2a779626",
   "metadata": {},
   "source": [
    "# Feature Engineering"
   ]
  },
  {
   "cell_type": "raw",
   "id": "ef71fef5",
   "metadata": {},
   "source": [
    "Feature engineering is about creating new input features from your existing ones.\n",
    "\n",
    "Data cleaning - subtraction and feature engineering - addition.\n",
    "\n",
    "which helps your algorithms “focus” on what’s important\n",
    "heuristics - domain knowledge / experience\n",
    "\n",
    "1.Infuse Domain Knowledge - adding an indicator column based on other\n",
    "\n",
    "2.Create Interaction Features- products, sums, or differences between two features\n",
    "\n",
    "3.Combine Sparse Classes -  group similar classes\n",
    "\n",
    "4.Add Dummy Variables\n",
    "\n",
    "5.Remove Unused Features - Redundant features\n",
    "\n",
    "6.Analytical Base Table (ABT)\n",
    "\n"
   ]
  },
  {
   "cell_type": "code",
   "execution_count": 20,
   "id": "db730aac",
   "metadata": {},
   "outputs": [],
   "source": [
    "# from sklearn.compose import ColumnTransformer\n",
    "# from sklearn.preproceessing import OneHotEncoder\n",
    "# ct=ColumnTransformer(transformers=[('encoder',OneHotEncoder(),[0])],remainder='passthrough')\n",
    "# x=ct.fit_transform(x)\n"
   ]
  },
  {
   "cell_type": "markdown",
   "id": "e9fd0371",
   "metadata": {},
   "source": [
    "# x y split"
   ]
  },
  {
   "cell_type": "code",
   "execution_count": 21,
   "id": "3eb12be1",
   "metadata": {},
   "outputs": [
    {
     "data": {
      "text/html": [
       "<div>\n",
       "<style scoped>\n",
       "    .dataframe tbody tr th:only-of-type {\n",
       "        vertical-align: middle;\n",
       "    }\n",
       "\n",
       "    .dataframe tbody tr th {\n",
       "        vertical-align: top;\n",
       "    }\n",
       "\n",
       "    .dataframe thead th {\n",
       "        text-align: right;\n",
       "    }\n",
       "</style>\n",
       "<table border=\"1\" class=\"dataframe\">\n",
       "  <thead>\n",
       "    <tr style=\"text-align: right;\">\n",
       "      <th></th>\n",
       "      <th>year</th>\n",
       "      <th>month</th>\n",
       "      <th>day</th>\n",
       "      <th>order</th>\n",
       "      <th>country</th>\n",
       "      <th>page1(maincategory)</th>\n",
       "      <th>page2(clothingmodel)</th>\n",
       "      <th>colour</th>\n",
       "      <th>location</th>\n",
       "      <th>modelphotography</th>\n",
       "      <th>price</th>\n",
       "      <th>price2</th>\n",
       "      <th>page</th>\n",
       "    </tr>\n",
       "  </thead>\n",
       "  <tbody>\n",
       "    <tr>\n",
       "      <th>0</th>\n",
       "      <td>2008</td>\n",
       "      <td>4</td>\n",
       "      <td>1</td>\n",
       "      <td>1</td>\n",
       "      <td>29</td>\n",
       "      <td>1</td>\n",
       "      <td>4</td>\n",
       "      <td>1</td>\n",
       "      <td>5</td>\n",
       "      <td>1</td>\n",
       "      <td>28</td>\n",
       "      <td>2</td>\n",
       "      <td>1</td>\n",
       "    </tr>\n",
       "    <tr>\n",
       "      <th>1</th>\n",
       "      <td>2008</td>\n",
       "      <td>4</td>\n",
       "      <td>1</td>\n",
       "      <td>2</td>\n",
       "      <td>29</td>\n",
       "      <td>1</td>\n",
       "      <td>7</td>\n",
       "      <td>1</td>\n",
       "      <td>6</td>\n",
       "      <td>1</td>\n",
       "      <td>33</td>\n",
       "      <td>2</td>\n",
       "      <td>1</td>\n",
       "    </tr>\n",
       "    <tr>\n",
       "      <th>2</th>\n",
       "      <td>2008</td>\n",
       "      <td>4</td>\n",
       "      <td>1</td>\n",
       "      <td>3</td>\n",
       "      <td>29</td>\n",
       "      <td>2</td>\n",
       "      <td>70</td>\n",
       "      <td>10</td>\n",
       "      <td>2</td>\n",
       "      <td>1</td>\n",
       "      <td>52</td>\n",
       "      <td>1</td>\n",
       "      <td>1</td>\n",
       "    </tr>\n",
       "    <tr>\n",
       "      <th>3</th>\n",
       "      <td>2008</td>\n",
       "      <td>4</td>\n",
       "      <td>1</td>\n",
       "      <td>4</td>\n",
       "      <td>29</td>\n",
       "      <td>2</td>\n",
       "      <td>51</td>\n",
       "      <td>6</td>\n",
       "      <td>6</td>\n",
       "      <td>2</td>\n",
       "      <td>38</td>\n",
       "      <td>2</td>\n",
       "      <td>1</td>\n",
       "    </tr>\n",
       "    <tr>\n",
       "      <th>4</th>\n",
       "      <td>2008</td>\n",
       "      <td>4</td>\n",
       "      <td>1</td>\n",
       "      <td>5</td>\n",
       "      <td>29</td>\n",
       "      <td>2</td>\n",
       "      <td>74</td>\n",
       "      <td>4</td>\n",
       "      <td>3</td>\n",
       "      <td>2</td>\n",
       "      <td>52</td>\n",
       "      <td>1</td>\n",
       "      <td>1</td>\n",
       "    </tr>\n",
       "    <tr>\n",
       "      <th>...</th>\n",
       "      <td>...</td>\n",
       "      <td>...</td>\n",
       "      <td>...</td>\n",
       "      <td>...</td>\n",
       "      <td>...</td>\n",
       "      <td>...</td>\n",
       "      <td>...</td>\n",
       "      <td>...</td>\n",
       "      <td>...</td>\n",
       "      <td>...</td>\n",
       "      <td>...</td>\n",
       "      <td>...</td>\n",
       "      <td>...</td>\n",
       "    </tr>\n",
       "    <tr>\n",
       "      <th>165469</th>\n",
       "      <td>2008</td>\n",
       "      <td>8</td>\n",
       "      <td>13</td>\n",
       "      <td>1</td>\n",
       "      <td>29</td>\n",
       "      <td>2</td>\n",
       "      <td>44</td>\n",
       "      <td>2</td>\n",
       "      <td>4</td>\n",
       "      <td>1</td>\n",
       "      <td>67</td>\n",
       "      <td>1</td>\n",
       "      <td>1</td>\n",
       "    </tr>\n",
       "    <tr>\n",
       "      <th>165470</th>\n",
       "      <td>2008</td>\n",
       "      <td>8</td>\n",
       "      <td>13</td>\n",
       "      <td>1</td>\n",
       "      <td>9</td>\n",
       "      <td>1</td>\n",
       "      <td>2</td>\n",
       "      <td>3</td>\n",
       "      <td>4</td>\n",
       "      <td>1</td>\n",
       "      <td>62</td>\n",
       "      <td>1</td>\n",
       "      <td>1</td>\n",
       "    </tr>\n",
       "    <tr>\n",
       "      <th>165471</th>\n",
       "      <td>2008</td>\n",
       "      <td>8</td>\n",
       "      <td>13</td>\n",
       "      <td>1</td>\n",
       "      <td>34</td>\n",
       "      <td>1</td>\n",
       "      <td>11</td>\n",
       "      <td>3</td>\n",
       "      <td>1</td>\n",
       "      <td>1</td>\n",
       "      <td>43</td>\n",
       "      <td>2</td>\n",
       "      <td>1</td>\n",
       "    </tr>\n",
       "    <tr>\n",
       "      <th>165472</th>\n",
       "      <td>2008</td>\n",
       "      <td>8</td>\n",
       "      <td>13</td>\n",
       "      <td>2</td>\n",
       "      <td>34</td>\n",
       "      <td>3</td>\n",
       "      <td>87</td>\n",
       "      <td>12</td>\n",
       "      <td>1</td>\n",
       "      <td>1</td>\n",
       "      <td>43</td>\n",
       "      <td>1</td>\n",
       "      <td>1</td>\n",
       "    </tr>\n",
       "    <tr>\n",
       "      <th>165473</th>\n",
       "      <td>2008</td>\n",
       "      <td>8</td>\n",
       "      <td>13</td>\n",
       "      <td>3</td>\n",
       "      <td>34</td>\n",
       "      <td>2</td>\n",
       "      <td>53</td>\n",
       "      <td>3</td>\n",
       "      <td>1</td>\n",
       "      <td>2</td>\n",
       "      <td>57</td>\n",
       "      <td>1</td>\n",
       "      <td>1</td>\n",
       "    </tr>\n",
       "  </tbody>\n",
       "</table>\n",
       "<p>165474 rows × 13 columns</p>\n",
       "</div>"
      ],
      "text/plain": [
       "        year  month  day  order  country  page1(maincategory)  \\\n",
       "0       2008      4    1      1       29                    1   \n",
       "1       2008      4    1      2       29                    1   \n",
       "2       2008      4    1      3       29                    2   \n",
       "3       2008      4    1      4       29                    2   \n",
       "4       2008      4    1      5       29                    2   \n",
       "...      ...    ...  ...    ...      ...                  ...   \n",
       "165469  2008      8   13      1       29                    2   \n",
       "165470  2008      8   13      1        9                    1   \n",
       "165471  2008      8   13      1       34                    1   \n",
       "165472  2008      8   13      2       34                    3   \n",
       "165473  2008      8   13      3       34                    2   \n",
       "\n",
       "        page2(clothingmodel)  colour  location  modelphotography  price  \\\n",
       "0                          4       1         5                 1     28   \n",
       "1                          7       1         6                 1     33   \n",
       "2                         70      10         2                 1     52   \n",
       "3                         51       6         6                 2     38   \n",
       "4                         74       4         3                 2     52   \n",
       "...                      ...     ...       ...               ...    ...   \n",
       "165469                    44       2         4                 1     67   \n",
       "165470                     2       3         4                 1     62   \n",
       "165471                    11       3         1                 1     43   \n",
       "165472                    87      12         1                 1     43   \n",
       "165473                    53       3         1                 2     57   \n",
       "\n",
       "        price2  page  \n",
       "0            2     1  \n",
       "1            2     1  \n",
       "2            1     1  \n",
       "3            2     1  \n",
       "4            1     1  \n",
       "...        ...   ...  \n",
       "165469       1     1  \n",
       "165470       1     1  \n",
       "165471       2     1  \n",
       "165472       1     1  \n",
       "165473       1     1  \n",
       "\n",
       "[165474 rows x 13 columns]"
      ]
     },
     "execution_count": 21,
     "metadata": {},
     "output_type": "execute_result"
    }
   ],
   "source": [
    "df.drop(['sessionID'],axis=1,inplace=True)\n",
    "df"
   ]
  },
  {
   "cell_type": "code",
   "execution_count": 22,
   "id": "c7617108",
   "metadata": {},
   "outputs": [],
   "source": [
    "x=df.drop(['price'],axis=1).values\n",
    "y=df['price'].values\n"
   ]
  },
  {
   "cell_type": "markdown",
   "id": "bdf8aef6",
   "metadata": {},
   "source": [
    "# Train Test split"
   ]
  },
  {
   "cell_type": "code",
   "execution_count": 23,
   "id": "79493c62",
   "metadata": {},
   "outputs": [],
   "source": [
    "from sklearn.model_selection import train_test_split\n",
    "x_train,x_test,y_train,y_test=train_test_split(x,y,test_size=0.3,random_state=10)"
   ]
  },
  {
   "cell_type": "code",
   "execution_count": 24,
   "id": "7a0caa9f",
   "metadata": {},
   "outputs": [],
   "source": [
    "#feature scaling\n",
    "from sklearn.preprocessing import StandardScaler\n",
    "sc_x=StandardScaler()\n",
    "x_train_sc=sc_x.fit_transform(x_train)\n",
    "x_test_sc=sc_x.transform(x_test)\n"
   ]
  },
  {
   "cell_type": "markdown",
   "id": "ba530f4f",
   "metadata": {},
   "source": [
    "# Regression"
   ]
  },
  {
   "cell_type": "code",
   "execution_count": 25,
   "id": "acd465d2",
   "metadata": {},
   "outputs": [],
   "source": [
    "#metrics\n",
    "from sklearn.metrics import r2_score,mean_squared_error,mean_absolute_error"
   ]
  },
  {
   "cell_type": "code",
   "execution_count": 26,
   "id": "9be8b55a",
   "metadata": {},
   "outputs": [
    {
     "data": {
      "text/plain": [
       "(78.60353209814865, 33.340995608962075, 4.385012927892924)"
      ]
     },
     "execution_count": 26,
     "metadata": {},
     "output_type": "execute_result"
    }
   ],
   "source": [
    "#linear regression\n",
    "from sklearn.linear_model import LinearRegression\n",
    "reg=LinearRegression()\n",
    "reg.fit(x_train,y_train)\n",
    "y_pred=reg.predict(x_test)\n",
    "\n",
    "r2_score(y_test,y_pred)*100,mean_squared_error(y_test,y_pred),mean_absolute_error(y_test,y_pred)"
   ]
  },
  {
   "cell_type": "code",
   "execution_count": 27,
   "id": "b9254748",
   "metadata": {},
   "outputs": [
    {
     "data": {
      "text/plain": [
       "(87.16966928012107, 19.992832562611955, 3.271011926026948)"
      ]
     },
     "execution_count": 27,
     "metadata": {},
     "output_type": "execute_result"
    }
   ],
   "source": [
    "#polynomial regression\n",
    "from sklearn.preprocessing import PolynomialFeatures\n",
    "poly_reg=PolynomialFeatures(degree=2)\n",
    "x_train_poly=poly_reg.fit_transform(x_train)\n",
    "x_test_poly=poly_reg.transform(x_test)\n",
    "\n",
    "reg=LinearRegression()\n",
    "reg.fit(x_train_poly,y_train)\n",
    "y_pred=reg.predict(x_test_poly)\n",
    "\n",
    "r2_score(y_test,y_pred)*100,mean_squared_error(y_test,y_pred),mean_absolute_error(y_test,y_pred)"
   ]
  },
  {
   "cell_type": "code",
   "execution_count": 28,
   "id": "cff08613",
   "metadata": {},
   "outputs": [],
   "source": [
    "# #svr\n",
    "# from sklearn.svm import SVC\n",
    "# kernels=['linear','sigmoid','poly','rbf']\n",
    "# for i in kernels:\n",
    "#     reg=SVC(kernel='rbf')\n",
    "#     reg.fit(x_train_sc,y_train)\n",
    "#     y_pred=reg.predict(x_test_sc)\n",
    "#     print(i)\n",
    "#     print(r2_score(y_test,y_pred)*100,mean_squared_error(y_test,y_pred),mean_absolute_error(y_test,y_pred))\n",
    "#     print('**********************************************')\n"
   ]
  },
  {
   "cell_type": "code",
   "execution_count": 29,
   "id": "712c3b73",
   "metadata": {},
   "outputs": [
    {
     "data": {
      "text/plain": [
       "(100.0, 0.0, 0.0)"
      ]
     },
     "execution_count": 29,
     "metadata": {},
     "output_type": "execute_result"
    }
   ],
   "source": [
    "#decision tree regressor\n",
    "from sklearn.tree import DecisionTreeRegressor\n",
    "reg=DecisionTreeRegressor()\n",
    "reg.fit(x_train,y_train)\n",
    "y_pred=reg.predict(x_test)\n",
    "\n",
    "r2_score(y_test,y_pred)*100,mean_squared_error(y_test,y_pred),mean_absolute_error(y_test,y_pred)"
   ]
  },
  {
   "cell_type": "code",
   "execution_count": 30,
   "id": "1e80970a",
   "metadata": {},
   "outputs": [
    {
     "data": {
      "text/plain": [
       "(99.99971495456029, 0.00044417138367947067, 0.0001510787019317927)"
      ]
     },
     "execution_count": 30,
     "metadata": {},
     "output_type": "execute_result"
    }
   ],
   "source": [
    "#random forest regressor\n",
    "from sklearn.ensemble import RandomForestRegressor\n",
    "reg=RandomForestRegressor(n_estimators=30)\n",
    "reg.fit(x_train,y_train)\n",
    "y_pred=reg.predict(x_test)\n",
    "\n",
    "r2_score(y_test,y_pred)*100,mean_squared_error(y_test,y_pred),mean_absolute_error(y_test,y_pred)"
   ]
  },
  {
   "cell_type": "code",
   "execution_count": 31,
   "id": "43ab0579",
   "metadata": {},
   "outputs": [
    {
     "name": "stderr",
     "output_type": "stream",
     "text": [
      "C:\\ProgramData\\Anaconda3\\lib\\site-packages\\sklearn\\linear_model\\_huber.py:332: ConvergenceWarning: lbfgs failed to converge (status=1):\n",
      "STOP: TOTAL NO. of ITERATIONS REACHED LIMIT.\n",
      "\n",
      "Increase the number of iterations (max_iter) or scale the data as shown in:\n",
      "    https://scikit-learn.org/stable/modules/preprocessing.html\n",
      "  self.n_iter_ = _check_optimize_result(\"lbfgs\", opt_res, self.max_iter)\n"
     ]
    },
    {
     "data": {
      "text/plain": [
       "(50.15155180884228, 77.67622674353453, 6.818041539187248)"
      ]
     },
     "execution_count": 31,
     "metadata": {},
     "output_type": "execute_result"
    }
   ],
   "source": [
    "#huber regressor\n",
    "from sklearn.linear_model import HuberRegressor\n",
    "reg=HuberRegressor()\n",
    "reg.fit(x_train,y_train)\n",
    "y_pred=reg.predict(x_test)\n",
    "\n",
    "r2_score(y_test,y_pred)*100,mean_squared_error(y_test,y_pred),mean_absolute_error(y_test,y_pred)"
   ]
  },
  {
   "cell_type": "code",
   "execution_count": 32,
   "id": "4f217825",
   "metadata": {},
   "outputs": [
    {
     "data": {
      "text/plain": [
       "(75.69196425674399, 37.87793932606359, 4.478050913594774)"
      ]
     },
     "execution_count": 32,
     "metadata": {},
     "output_type": "execute_result"
    }
   ],
   "source": [
    "#RANSAC regressor\n",
    "from sklearn.linear_model import RANSACRegressor\n",
    "reg=RANSACRegressor()\n",
    "reg.fit(x_train,y_train)\n",
    "y_pred=reg.predict(x_test)\n",
    "\n",
    "r2_score(y_test,y_pred)*100,mean_squared_error(y_test,y_pred),mean_absolute_error(y_test,y_pred)"
   ]
  },
  {
   "cell_type": "code",
   "execution_count": 33,
   "id": "e706ae4e",
   "metadata": {},
   "outputs": [],
   "source": [
    "# #theil sen regressor\n",
    "# from sklearn.linear_model import TheilSenRegressor\n",
    "# reg=TheilSenRegressor()\n",
    "# reg.fit(x_train,y_train)\n",
    "# y_pred=reg.predict(x_test)\n",
    "\n",
    "# r2_score(y_test,y_pred)*100,mean_squared_error(y_test,y_pred),mean_absolute_error(y_test,y_pred)"
   ]
  },
  {
   "cell_type": "code",
   "execution_count": 34,
   "id": "0f8663f6",
   "metadata": {},
   "outputs": [
    {
     "data": {
      "text/plain": [
       "(78.5285114471682, 33.457896361291596, 4.381994078927881)"
      ]
     },
     "execution_count": 34,
     "metadata": {},
     "output_type": "execute_result"
    }
   ],
   "source": [
    "#lasso L1 penalty shrinks to 0 - to coefficients\n",
    "from sklearn.linear_model import Lasso\n",
    "reg=Lasso(alpha=0.1)\n",
    "reg.fit(x_train,y_train)\n",
    "y_pred=reg.predict(x_test)\n",
    "\n",
    "r2_score(y_test,y_pred)*100,mean_squared_error(y_test,y_pred),mean_absolute_error(y_test,y_pred)"
   ]
  },
  {
   "cell_type": "code",
   "execution_count": 35,
   "id": "2f796eb7",
   "metadata": {},
   "outputs": [
    {
     "data": {
      "text/plain": [
       "(78.60353696453939, 33.34098802592022, 4.385006642113035)"
      ]
     },
     "execution_count": 35,
     "metadata": {},
     "output_type": "execute_result"
    }
   ],
   "source": [
    "#ridge L2 penalty close to 0 - reducing multicolineearity by reducing coefficients close to 0 \n",
    "from sklearn.linear_model import Ridge\n",
    "reg=Ridge(alpha=0.1)\n",
    "reg.fit(x_train,y_train)\n",
    "y_pred=reg.predict(x_test)\n",
    "\n",
    "r2_score(y_test,y_pred)*100,mean_squared_error(y_test,y_pred),mean_absolute_error(y_test,y_pred)"
   ]
  },
  {
   "cell_type": "code",
   "execution_count": 36,
   "id": "55e826d3",
   "metadata": {},
   "outputs": [
    {
     "data": {
      "text/plain": [
       "(76.20330691511533, 37.08114083550716, 4.354223786550126)"
      ]
     },
     "execution_count": 36,
     "metadata": {},
     "output_type": "execute_result"
    }
   ],
   "source": [
    "#elstic neet L1 and l2 penalty\n",
    "from sklearn.linear_model import ElasticNet\n",
    "reg=ElasticNet(alpha=0.1)\n",
    "reg.fit(x_train,y_train)\n",
    "y_pred=reg.predict(x_test)\n",
    "\n",
    "r2_score(y_test,y_pred)*100,mean_squared_error(y_test,y_pred),mean_absolute_error(y_test,y_pred)"
   ]
  },
  {
   "cell_type": "markdown",
   "id": "0f366a6a",
   "metadata": {},
   "source": [
    "# Classification"
   ]
  },
  {
   "cell_type": "code",
   "execution_count": 37,
   "id": "77e752d8",
   "metadata": {},
   "outputs": [],
   "source": [
    "x=df.drop(['country'],axis=1).values\n",
    "y=df['country'].values\n"
   ]
  },
  {
   "cell_type": "code",
   "execution_count": 38,
   "id": "5de2cea9",
   "metadata": {},
   "outputs": [],
   "source": [
    "from sklearn.model_selection import train_test_split\n",
    "x_train,x_test,y_train,y_test=train_test_split(x,y,test_size=0.3,random_state=10)"
   ]
  },
  {
   "cell_type": "code",
   "execution_count": 39,
   "id": "f3501607",
   "metadata": {},
   "outputs": [],
   "source": [
    "#feature scaling\n",
    "from sklearn.preprocessing import StandardScaler\n",
    "sc_x=StandardScaler()\n",
    "x_train_sc=sc_x.fit_transform(x_train)\n",
    "x_test_sc=sc_x.transform(x_test)\n"
   ]
  },
  {
   "cell_type": "code",
   "execution_count": 40,
   "id": "a677e504",
   "metadata": {},
   "outputs": [],
   "source": [
    "#metrics\n",
    "from sklearn.metrics import accuracy_score,confusion_matrix"
   ]
  },
  {
   "cell_type": "code",
   "execution_count": 41,
   "id": "6fa6910f",
   "metadata": {},
   "outputs": [],
   "source": [
    "# #logistic regression\n",
    "# from sklearn.linear_model import LogisticRegression\n",
    "# cls=LogisticRegression()\n",
    "# cls.fit(x_train,y_train)\n",
    "# y_pred=cls.predict(x_test)\n",
    "\n",
    "# accuracy_score(y_test,y_pred),confusion_matrix(y_test,y_pred)"
   ]
  },
  {
   "cell_type": "code",
   "execution_count": 42,
   "id": "de215e8f",
   "metadata": {},
   "outputs": [],
   "source": [
    "# #svc\n",
    "# from sklearn.svm import SVC\n",
    "# kernels=['linear','sigmoid','poly','rbf']\n",
    "# for i in kernels:\n",
    "#     cls=SVC(kernel=i)\n",
    "#     cls.fit(x_train,y_train)\n",
    "#     y_pred=cls.predict(x_test)\n",
    "\n",
    "#     print(accuracy_score(y_test,y_pred),confusion_matrix(y_test,y_pred))"
   ]
  },
  {
   "cell_type": "code",
   "execution_count": 43,
   "id": "210cd23e",
   "metadata": {},
   "outputs": [
    {
     "data": {
      "text/plain": [
       "(0.7825876760066878,\n",
       " array([[0, 0, 0, ..., 0, 0, 0],\n",
       "        [0, 0, 0, ..., 0, 0, 0],\n",
       "        [0, 0, 0, ..., 0, 0, 0],\n",
       "        ...,\n",
       "        [0, 0, 0, ..., 0, 0, 0],\n",
       "        [0, 0, 0, ..., 0, 0, 0],\n",
       "        [0, 0, 0, ..., 0, 0, 0]], dtype=int64))"
      ]
     },
     "execution_count": 43,
     "metadata": {},
     "output_type": "execute_result"
    }
   ],
   "source": [
    "#knn\n",
    "from sklearn.neighbors import KNeighborsClassifier\n",
    "cls=KNeighborsClassifier(n_neighbors=5,metric='minkowski',p=2)\n",
    "cls.fit(x_train,y_train)\n",
    "y_pred=cls.predict(x_test)\n",
    "\n",
    "accuracy_score(y_test,y_pred),confusion_matrix(y_test,y_pred)"
   ]
  },
  {
   "cell_type": "code",
   "execution_count": 44,
   "id": "73269f71",
   "metadata": {},
   "outputs": [
    {
     "data": {
      "text/plain": [
       "(0.6795318574622807,\n",
       " array([[1, 0, 0, ..., 0, 0, 0],\n",
       "        [0, 0, 0, ..., 0, 0, 0],\n",
       "        [0, 0, 0, ..., 0, 0, 0],\n",
       "        ...,\n",
       "        [0, 0, 0, ..., 0, 0, 0],\n",
       "        [0, 0, 0, ..., 6, 0, 0],\n",
       "        [0, 0, 0, ..., 0, 0, 0]], dtype=int64))"
      ]
     },
     "execution_count": 44,
     "metadata": {},
     "output_type": "execute_result"
    }
   ],
   "source": [
    "#naive bayes\n",
    "from sklearn.naive_bayes import GaussianNB\n",
    "cls=GaussianNB()\n",
    "cls.fit(x_train,y_train)\n",
    "y_pred=cls.predict(x_test)\n",
    "\n",
    "accuracy_score(y_test,y_pred),confusion_matrix(y_test,y_pred)"
   ]
  },
  {
   "cell_type": "code",
   "execution_count": 45,
   "id": "8e01c916",
   "metadata": {},
   "outputs": [
    {
     "data": {
      "text/plain": [
       "(0.7177446971375622,\n",
       " array([[ 0,  0,  0, ...,  0,  0,  0],\n",
       "        [ 0,  0,  0, ...,  0,  1,  0],\n",
       "        [ 0,  0,  4, ...,  0,  0,  0],\n",
       "        ...,\n",
       "        [ 0,  0,  0, ...,  0,  0,  0],\n",
       "        [ 0,  0,  0, ...,  0, 50,  0],\n",
       "        [ 0,  0,  0, ...,  0,  0,  0]], dtype=int64))"
      ]
     },
     "execution_count": 45,
     "metadata": {},
     "output_type": "execute_result"
    }
   ],
   "source": [
    "#decision tree classifier\n",
    "from sklearn.tree import DecisionTreeClassifier\n",
    "cls=DecisionTreeClassifier(criterion='entropy')\n",
    "cls.fit(x_train,y_train)\n",
    "y_pred=cls.predict(x_test)\n",
    "\n",
    "accuracy_score(y_test,y_pred),confusion_matrix(y_test,y_pred)"
   ]
  },
  {
   "cell_type": "code",
   "execution_count": 46,
   "id": "d6b05736",
   "metadata": {},
   "outputs": [
    {
     "data": {
      "text/plain": [
       "(0.7735229538907802,\n",
       " array([[ 0,  0,  0, ...,  0,  0,  0],\n",
       "        [ 0,  0,  0, ...,  0,  1,  0],\n",
       "        [ 0,  0,  2, ...,  0,  0,  0],\n",
       "        ...,\n",
       "        [ 0,  0,  0, ...,  0,  0,  0],\n",
       "        [ 0,  0,  0, ...,  0, 11,  0],\n",
       "        [ 0,  0,  0, ...,  0,  0,  0]], dtype=int64))"
      ]
     },
     "execution_count": 46,
     "metadata": {},
     "output_type": "execute_result"
    }
   ],
   "source": [
    "#random forest classifier\n",
    "from sklearn.ensemble import RandomForestClassifier\n",
    "cls=RandomForestClassifier(n_estimators=30,criterion='entropy')\n",
    "cls.fit(x_train,y_train)\n",
    "y_pred=cls.predict(x_test)\n",
    "\n",
    "accuracy_score(y_test,y_pred),confusion_matrix(y_test,y_pred)"
   ]
  },
  {
   "cell_type": "markdown",
   "id": "c690a1b7",
   "metadata": {},
   "source": [
    "\n",
    "# Clustering"
   ]
  },
  {
   "cell_type": "code",
   "execution_count": 47,
   "id": "3e3e2e8d",
   "metadata": {},
   "outputs": [
    {
     "data": {
      "text/plain": [
       "[<matplotlib.lines.Line2D at 0x17d27e91f40>]"
      ]
     },
     "execution_count": 47,
     "metadata": {},
     "output_type": "execute_result"
    },
    {
     "data": {
      "image/png": "[encoded data removed]",
      "text/plain": [
       "<Figure size 432x288 with 1 Axes>"
      ]
     },
     "metadata": {
      "needs_background": "light"
     },
     "output_type": "display_data"
    }
   ],
   "source": [
    "from sklearn.cluster import KMeans\n",
    "wcss=[]\n",
    "for i in range(1,11):\n",
    "    kmeans=KMeans(n_clusters=i,init='k-means++')\n",
    "    kmeans.fit(df)\n",
    "    wcss.append(kmeans.inertia_)\n",
    "plt.plot(range(1,11),wcss)"
   ]
  },
  {
   "cell_type": "code",
   "execution_count": 48,
   "id": "a496d2d0",
   "metadata": {},
   "outputs": [
    {
     "data": {
      "text/plain": [
       "array([3, 3, 2, ..., 3, 2, 2])"
      ]
     },
     "execution_count": 48,
     "metadata": {},
     "output_type": "execute_result"
    }
   ],
   "source": [
    "kmeans=KMeans(n_clusters=4,init='k-means++')\n",
    "y_pred=kmeans.fit_predict(df)\n",
    "y_pred\n",
    "\n"
   ]
  },
  {
   "cell_type": "code",
   "execution_count": 49,
   "id": "93237547",
   "metadata": {},
   "outputs": [
    {
     "data": {
      "text/html": [
       "<div>\n",
       "<style scoped>\n",
       "    .dataframe tbody tr th:only-of-type {\n",
       "        vertical-align: middle;\n",
       "    }\n",
       "\n",
       "    .dataframe tbody tr th {\n",
       "        vertical-align: top;\n",
       "    }\n",
       "\n",
       "    .dataframe thead th {\n",
       "        text-align: right;\n",
       "    }\n",
       "</style>\n",
       "<table border=\"1\" class=\"dataframe\">\n",
       "  <thead>\n",
       "    <tr style=\"text-align: right;\">\n",
       "      <th></th>\n",
       "      <th>year</th>\n",
       "      <th>month</th>\n",
       "      <th>day</th>\n",
       "      <th>order</th>\n",
       "      <th>country</th>\n",
       "      <th>page1(maincategory)</th>\n",
       "      <th>page2(clothingmodel)</th>\n",
       "      <th>colour</th>\n",
       "      <th>location</th>\n",
       "      <th>modelphotography</th>\n",
       "      <th>price</th>\n",
       "      <th>price2</th>\n",
       "      <th>page</th>\n",
       "    </tr>\n",
       "  </thead>\n",
       "  <tbody>\n",
       "    <tr>\n",
       "      <th>123590</th>\n",
       "      <td>2008</td>\n",
       "      <td>7</td>\n",
       "      <td>8</td>\n",
       "      <td>2</td>\n",
       "      <td>29</td>\n",
       "      <td>3</td>\n",
       "      <td>110</td>\n",
       "      <td>14</td>\n",
       "      <td>2</td>\n",
       "      <td>2</td>\n",
       "      <td>28</td>\n",
       "      <td>2</td>\n",
       "      <td>3</td>\n",
       "    </tr>\n",
       "    <tr>\n",
       "      <th>36623</th>\n",
       "      <td>2008</td>\n",
       "      <td>4</td>\n",
       "      <td>21</td>\n",
       "      <td>1</td>\n",
       "      <td>29</td>\n",
       "      <td>1</td>\n",
       "      <td>33</td>\n",
       "      <td>3</td>\n",
       "      <td>2</td>\n",
       "      <td>2</td>\n",
       "      <td>38</td>\n",
       "      <td>2</td>\n",
       "      <td>1</td>\n",
       "    </tr>\n",
       "    <tr>\n",
       "      <th>127877</th>\n",
       "      <td>2008</td>\n",
       "      <td>7</td>\n",
       "      <td>11</td>\n",
       "      <td>4</td>\n",
       "      <td>29</td>\n",
       "      <td>2</td>\n",
       "      <td>60</td>\n",
       "      <td>13</td>\n",
       "      <td>3</td>\n",
       "      <td>1</td>\n",
       "      <td>57</td>\n",
       "      <td>1</td>\n",
       "      <td>2</td>\n",
       "    </tr>\n",
       "    <tr>\n",
       "      <th>114745</th>\n",
       "      <td>2008</td>\n",
       "      <td>6</td>\n",
       "      <td>29</td>\n",
       "      <td>3</td>\n",
       "      <td>29</td>\n",
       "      <td>3</td>\n",
       "      <td>131</td>\n",
       "      <td>6</td>\n",
       "      <td>2</td>\n",
       "      <td>1</td>\n",
       "      <td>33</td>\n",
       "      <td>2</td>\n",
       "      <td>1</td>\n",
       "    </tr>\n",
       "    <tr>\n",
       "      <th>110019</th>\n",
       "      <td>2008</td>\n",
       "      <td>6</td>\n",
       "      <td>25</td>\n",
       "      <td>7</td>\n",
       "      <td>29</td>\n",
       "      <td>2</td>\n",
       "      <td>71</td>\n",
       "      <td>14</td>\n",
       "      <td>2</td>\n",
       "      <td>2</td>\n",
       "      <td>52</td>\n",
       "      <td>1</td>\n",
       "      <td>1</td>\n",
       "    </tr>\n",
       "    <tr>\n",
       "      <th>...</th>\n",
       "      <td>...</td>\n",
       "      <td>...</td>\n",
       "      <td>...</td>\n",
       "      <td>...</td>\n",
       "      <td>...</td>\n",
       "      <td>...</td>\n",
       "      <td>...</td>\n",
       "      <td>...</td>\n",
       "      <td>...</td>\n",
       "      <td>...</td>\n",
       "      <td>...</td>\n",
       "      <td>...</td>\n",
       "      <td>...</td>\n",
       "    </tr>\n",
       "    <tr>\n",
       "      <th>150373</th>\n",
       "      <td>2008</td>\n",
       "      <td>7</td>\n",
       "      <td>31</td>\n",
       "      <td>15</td>\n",
       "      <td>29</td>\n",
       "      <td>1</td>\n",
       "      <td>0</td>\n",
       "      <td>8</td>\n",
       "      <td>1</td>\n",
       "      <td>1</td>\n",
       "      <td>28</td>\n",
       "      <td>2</td>\n",
       "      <td>1</td>\n",
       "    </tr>\n",
       "    <tr>\n",
       "      <th>163196</th>\n",
       "      <td>2008</td>\n",
       "      <td>8</td>\n",
       "      <td>11</td>\n",
       "      <td>1</td>\n",
       "      <td>29</td>\n",
       "      <td>1</td>\n",
       "      <td>11</td>\n",
       "      <td>3</td>\n",
       "      <td>1</td>\n",
       "      <td>1</td>\n",
       "      <td>43</td>\n",
       "      <td>2</td>\n",
       "      <td>1</td>\n",
       "    </tr>\n",
       "    <tr>\n",
       "      <th>36301</th>\n",
       "      <td>2008</td>\n",
       "      <td>4</td>\n",
       "      <td>21</td>\n",
       "      <td>3</td>\n",
       "      <td>29</td>\n",
       "      <td>1</td>\n",
       "      <td>6</td>\n",
       "      <td>14</td>\n",
       "      <td>5</td>\n",
       "      <td>2</td>\n",
       "      <td>33</td>\n",
       "      <td>2</td>\n",
       "      <td>1</td>\n",
       "    </tr>\n",
       "    <tr>\n",
       "      <th>114666</th>\n",
       "      <td>2008</td>\n",
       "      <td>6</td>\n",
       "      <td>29</td>\n",
       "      <td>3</td>\n",
       "      <td>29</td>\n",
       "      <td>1</td>\n",
       "      <td>15</td>\n",
       "      <td>6</td>\n",
       "      <td>2</td>\n",
       "      <td>2</td>\n",
       "      <td>33</td>\n",
       "      <td>2</td>\n",
       "      <td>2</td>\n",
       "    </tr>\n",
       "    <tr>\n",
       "      <th>121524</th>\n",
       "      <td>2008</td>\n",
       "      <td>7</td>\n",
       "      <td>6</td>\n",
       "      <td>25</td>\n",
       "      <td>29</td>\n",
       "      <td>4</td>\n",
       "      <td>141</td>\n",
       "      <td>4</td>\n",
       "      <td>5</td>\n",
       "      <td>2</td>\n",
       "      <td>38</td>\n",
       "      <td>1</td>\n",
       "      <td>1</td>\n",
       "    </tr>\n",
       "  </tbody>\n",
       "</table>\n",
       "<p>1500 rows × 13 columns</p>\n",
       "</div>"
      ],
      "text/plain": [
       "        year  month  day  order  country  page1(maincategory)  \\\n",
       "123590  2008      7    8      2       29                    3   \n",
       "36623   2008      4   21      1       29                    1   \n",
       "127877  2008      7   11      4       29                    2   \n",
       "114745  2008      6   29      3       29                    3   \n",
       "110019  2008      6   25      7       29                    2   \n",
       "...      ...    ...  ...    ...      ...                  ...   \n",
       "150373  2008      7   31     15       29                    1   \n",
       "163196  2008      8   11      1       29                    1   \n",
       "36301   2008      4   21      3       29                    1   \n",
       "114666  2008      6   29      3       29                    1   \n",
       "121524  2008      7    6     25       29                    4   \n",
       "\n",
       "        page2(clothingmodel)  colour  location  modelphotography  price  \\\n",
       "123590                   110      14         2                 2     28   \n",
       "36623                     33       3         2                 2     38   \n",
       "127877                    60      13         3                 1     57   \n",
       "114745                   131       6         2                 1     33   \n",
       "110019                    71      14         2                 2     52   \n",
       "...                      ...     ...       ...               ...    ...   \n",
       "150373                     0       8         1                 1     28   \n",
       "163196                    11       3         1                 1     43   \n",
       "36301                      6      14         5                 2     33   \n",
       "114666                    15       6         2                 2     33   \n",
       "121524                   141       4         5                 2     38   \n",
       "\n",
       "        price2  page  \n",
       "123590       2     3  \n",
       "36623        2     1  \n",
       "127877       1     2  \n",
       "114745       2     1  \n",
       "110019       1     1  \n",
       "...        ...   ...  \n",
       "150373       2     1  \n",
       "163196       2     1  \n",
       "36301        2     1  \n",
       "114666       2     2  \n",
       "121524       1     1  \n",
       "\n",
       "[1500 rows x 13 columns]"
      ]
     },
     "execution_count": 49,
     "metadata": {},
     "output_type": "execute_result"
    }
   ],
   "source": [
    "df_h=df.sample(1500)\n",
    "df_h"
   ]
  },
  {
   "cell_type": "code",
   "execution_count": 50,
   "id": "27cf3ad8",
   "metadata": {},
   "outputs": [
    {
     "data": {
      "image/png": "[encoded data removed]",
      "text/plain": [
       "<Figure size 432x288 with 1 Axes>"
      ]
     },
     "metadata": {
      "needs_background": "light"
     },
     "output_type": "display_data"
    }
   ],
   "source": [
    "import scipy.cluster.hierarchy as sch\n",
    "den=sch.dendrogram(sch.linkage(df_h,method='ward'))\n"
   ]
  },
  {
   "cell_type": "code",
   "execution_count": 51,
   "id": "1fbf3b69",
   "metadata": {},
   "outputs": [
    {
     "data": {
      "text/plain": [
       "array([1, 0, 0, ..., 0, 0, 1], dtype=int64)"
      ]
     },
     "execution_count": 51,
     "metadata": {},
     "output_type": "execute_result"
    }
   ],
   "source": [
    "from sklearn.cluster import AgglomerativeClustering\n",
    "ag=AgglomerativeClustering(n_clusters=2,affinity='euclidean',linkage='ward')\n",
    "y_pred=ag.fit_predict(df_h)\n",
    "y_pred\n"
   ]
  }
 ],
 "metadata": {
  "kernelspec": {
   "display_name": "Python 3 (ipykernel)",
   "language": "python",
   "name": "python3"
  },
  "language_info": {
   "codemirror_mode": {
    "name": "ipython",
    "version": 3
   },
   "file_extension": ".py",
   "mimetype": "text/x-python",
   "name": "python",
   "nbconvert_exporter": "python",
   "pygments_lexer": "ipython3",
   "version": "3.9.12"
  }
 },
 "nbformat": 4,
 "nbformat_minor": 5
}
